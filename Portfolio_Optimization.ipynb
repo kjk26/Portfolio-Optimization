{
  "nbformat": 4,
  "nbformat_minor": 0,
  "metadata": {
    "colab": {
      "name": "Portfolio Optimization.ipynb",
      "provenance": [],
      "authorship_tag": "ABX9TyM61iXWTDG5ouP78pUuq57s",
      "include_colab_link": true
    },
    "kernelspec": {
      "name": "python3",
      "display_name": "Python 3"
    }
  },
  "cells": [
    {
      "cell_type": "markdown",
      "metadata": {
        "id": "view-in-github",
        "colab_type": "text"
      },
      "source": [
        "<a href=\"https://colab.research.google.com/github/kjk26/Portfolio-Optimization/blob/main/Portfolio_Optimization.ipynb\" target=\"_parent\"><img src=\"https://colab.research.google.com/assets/colab-badge.svg\" alt=\"Open In Colab\"/></a>"
      ]
    },
    {
      "cell_type": "code",
      "metadata": {
        "id": "_zAAIBG_7QHp"
      },
      "source": [
        "from pandas_datareader import data as web\r\n",
        "import pandas as pd\r\n",
        "import numpy as np\r\n",
        "from datetime import datetime\r\n",
        "import matplotlib.pyplot as plt \r\n",
        "plt.style.use('fivethirtyeight')"
      ],
      "execution_count": null,
      "outputs": []
    },
    {
      "cell_type": "code",
      "metadata": {
        "id": "asMFW5Y78sMy"
      },
      "source": [
        "assets = ['FB', 'AMZN', 'AAPL', 'NFLX', 'GOOG']"
      ],
      "execution_count": null,
      "outputs": []
    },
    {
      "cell_type": "code",
      "metadata": {
        "id": "n9sO5mEU9JMl"
      },
      "source": [
        "weights = np.array([0.2, 0.2, 0.2, 0.2, 0.2])"
      ],
      "execution_count": null,
      "outputs": []
    },
    {
      "cell_type": "code",
      "metadata": {
        "id": "B2e2oG1h93tj"
      },
      "source": [
        "stockStartDate = '2016-01-01'"
      ],
      "execution_count": null,
      "outputs": []
    },
    {
      "cell_type": "code",
      "metadata": {
        "colab": {
          "base_uri": "https://localhost:8080/",
          "height": 35
        },
        "id": "-HShz1U6-NLD",
        "outputId": "52a0107f-b6a5-494e-a01f-18e68e94be0c"
      },
      "source": [
        "today = datetime.today().strftime('%Y-%m-%d')\r\n",
        "today"
      ],
      "execution_count": null,
      "outputs": [
        {
          "output_type": "execute_result",
          "data": {
            "application/vnd.google.colaboratory.intrinsic+json": {
              "type": "string"
            },
            "text/plain": [
              "'2021-01-09'"
            ]
          },
          "metadata": {
            "tags": []
          },
          "execution_count": 64
        }
      ]
    },
    {
      "cell_type": "code",
      "metadata": {
        "id": "bUg6Ne4uAgQr"
      },
      "source": [
        "df = pd.DataFrame()"
      ],
      "execution_count": null,
      "outputs": []
    },
    {
      "cell_type": "code",
      "metadata": {
        "id": "ZKvBDIClAxg6"
      },
      "source": [
        "for stock in assets: \r\n",
        "  df[stock] = web.DataReader(stock, data_source='yahoo', start = stockStartDate, end = today)['Adj Close']"
      ],
      "execution_count": null,
      "outputs": []
    },
    {
      "cell_type": "code",
      "metadata": {
        "colab": {
          "base_uri": "https://localhost:8080/",
          "height": 444
        },
        "id": "yKjbEe2OB-Tl",
        "outputId": "2f17ab04-c0b0-4363-9ffe-87f09fb0da27"
      },
      "source": [
        "df"
      ],
      "execution_count": null,
      "outputs": [
        {
          "output_type": "execute_result",
          "data": {
            "text/html": [
              "<div>\n",
              "<style scoped>\n",
              "    .dataframe tbody tr th:only-of-type {\n",
              "        vertical-align: middle;\n",
              "    }\n",
              "\n",
              "    .dataframe tbody tr th {\n",
              "        vertical-align: top;\n",
              "    }\n",
              "\n",
              "    .dataframe thead th {\n",
              "        text-align: right;\n",
              "    }\n",
              "</style>\n",
              "<table border=\"1\" class=\"dataframe\">\n",
              "  <thead>\n",
              "    <tr style=\"text-align: right;\">\n",
              "      <th></th>\n",
              "      <th>FB</th>\n",
              "      <th>AMZN</th>\n",
              "      <th>AAPL</th>\n",
              "      <th>NFLX</th>\n",
              "      <th>GOOG</th>\n",
              "    </tr>\n",
              "    <tr>\n",
              "      <th>Date</th>\n",
              "      <th></th>\n",
              "      <th></th>\n",
              "      <th></th>\n",
              "      <th></th>\n",
              "      <th></th>\n",
              "    </tr>\n",
              "  </thead>\n",
              "  <tbody>\n",
              "    <tr>\n",
              "      <th>2016-01-04</th>\n",
              "      <td>102.220001</td>\n",
              "      <td>636.989990</td>\n",
              "      <td>24.400942</td>\n",
              "      <td>109.959999</td>\n",
              "      <td>741.840027</td>\n",
              "    </tr>\n",
              "    <tr>\n",
              "      <th>2016-01-05</th>\n",
              "      <td>102.730003</td>\n",
              "      <td>633.789978</td>\n",
              "      <td>23.789471</td>\n",
              "      <td>107.660004</td>\n",
              "      <td>742.580017</td>\n",
              "    </tr>\n",
              "    <tr>\n",
              "      <th>2016-01-06</th>\n",
              "      <td>102.970001</td>\n",
              "      <td>632.650024</td>\n",
              "      <td>23.323915</td>\n",
              "      <td>117.680000</td>\n",
              "      <td>743.619995</td>\n",
              "    </tr>\n",
              "    <tr>\n",
              "      <th>2016-01-07</th>\n",
              "      <td>97.919998</td>\n",
              "      <td>607.940002</td>\n",
              "      <td>22.339539</td>\n",
              "      <td>114.559998</td>\n",
              "      <td>726.390015</td>\n",
              "    </tr>\n",
              "    <tr>\n",
              "      <th>2016-01-08</th>\n",
              "      <td>97.330002</td>\n",
              "      <td>607.049988</td>\n",
              "      <td>22.457672</td>\n",
              "      <td>111.389999</td>\n",
              "      <td>714.469971</td>\n",
              "    </tr>\n",
              "    <tr>\n",
              "      <th>...</th>\n",
              "      <td>...</td>\n",
              "      <td>...</td>\n",
              "      <td>...</td>\n",
              "      <td>...</td>\n",
              "      <td>...</td>\n",
              "    </tr>\n",
              "    <tr>\n",
              "      <th>2021-01-04</th>\n",
              "      <td>268.940002</td>\n",
              "      <td>3186.629883</td>\n",
              "      <td>129.410004</td>\n",
              "      <td>522.859985</td>\n",
              "      <td>1728.239990</td>\n",
              "    </tr>\n",
              "    <tr>\n",
              "      <th>2021-01-05</th>\n",
              "      <td>270.970001</td>\n",
              "      <td>3218.510010</td>\n",
              "      <td>131.009995</td>\n",
              "      <td>520.799988</td>\n",
              "      <td>1740.920044</td>\n",
              "    </tr>\n",
              "    <tr>\n",
              "      <th>2021-01-06</th>\n",
              "      <td>263.309998</td>\n",
              "      <td>3138.379883</td>\n",
              "      <td>126.599998</td>\n",
              "      <td>500.489990</td>\n",
              "      <td>1735.290039</td>\n",
              "    </tr>\n",
              "    <tr>\n",
              "      <th>2021-01-07</th>\n",
              "      <td>268.739990</td>\n",
              "      <td>3162.159912</td>\n",
              "      <td>130.919998</td>\n",
              "      <td>508.890015</td>\n",
              "      <td>1787.250000</td>\n",
              "    </tr>\n",
              "    <tr>\n",
              "      <th>2021-01-08</th>\n",
              "      <td>267.570007</td>\n",
              "      <td>3182.699951</td>\n",
              "      <td>132.050003</td>\n",
              "      <td>510.399994</td>\n",
              "      <td>1807.209961</td>\n",
              "    </tr>\n",
              "  </tbody>\n",
              "</table>\n",
              "<p>1263 rows × 5 columns</p>\n",
              "</div>"
            ],
            "text/plain": [
              "                    FB         AMZN        AAPL        NFLX         GOOG\n",
              "Date                                                                    \n",
              "2016-01-04  102.220001   636.989990   24.400942  109.959999   741.840027\n",
              "2016-01-05  102.730003   633.789978   23.789471  107.660004   742.580017\n",
              "2016-01-06  102.970001   632.650024   23.323915  117.680000   743.619995\n",
              "2016-01-07   97.919998   607.940002   22.339539  114.559998   726.390015\n",
              "2016-01-08   97.330002   607.049988   22.457672  111.389999   714.469971\n",
              "...                ...          ...         ...         ...          ...\n",
              "2021-01-04  268.940002  3186.629883  129.410004  522.859985  1728.239990\n",
              "2021-01-05  270.970001  3218.510010  131.009995  520.799988  1740.920044\n",
              "2021-01-06  263.309998  3138.379883  126.599998  500.489990  1735.290039\n",
              "2021-01-07  268.739990  3162.159912  130.919998  508.890015  1787.250000\n",
              "2021-01-08  267.570007  3182.699951  132.050003  510.399994  1807.209961\n",
              "\n",
              "[1263 rows x 5 columns]"
            ]
          },
          "metadata": {
            "tags": []
          },
          "execution_count": 67
        }
      ]
    },
    {
      "cell_type": "code",
      "metadata": {
        "colab": {
          "base_uri": "https://localhost:8080/",
          "height": 325
        },
        "id": "zjGpM26LCDOf",
        "outputId": "e886f74c-bba0-409e-8b1b-a866cece83e3"
      },
      "source": [
        "title = 'Portfolio Adj. Close Price History'\r\n",
        "my_stocks = df\r\n",
        "for c in my_stocks.columns.values:\r\n",
        "  plt.plot(my_stocks[c], label = c)\r\n",
        "\r\n",
        "plt.title(title)\r\n",
        "plt.xlabel('Date', fontsize = 18)\r\n",
        "plt.ylabel('Adj. Price USD ($)', fontsize = 18)\r\n",
        "plt.legend(my_stocks.columns.values, loc='upper left')\r\n",
        "plt.show()"
      ],
      "execution_count": null,
      "outputs": [
        {
          "output_type": "display_data",
          "data": {
            "image/png": "[encoded data removed]",
            "text/plain": [
              "<Figure size 432x288 with 1 Axes>"
            ]
          },
          "metadata": {
            "tags": []
          }
        }
      ]
    },
    {
      "cell_type": "code",
      "metadata": {
        "colab": {
          "base_uri": "https://localhost:8080/",
          "height": 444
        },
        "id": "B-jQbdqCCnYg",
        "outputId": "6ac59519-5179-4dd5-f467-6ec9eb959ded"
      },
      "source": [
        "returns = df.pct_change()\r\n",
        "returns"
      ],
      "execution_count": null,
      "outputs": [
        {
          "output_type": "execute_result",
          "data": {
            "text/html": [
              "<div>\n",
              "<style scoped>\n",
              "    .dataframe tbody tr th:only-of-type {\n",
              "        vertical-align: middle;\n",
              "    }\n",
              "\n",
              "    .dataframe tbody tr th {\n",
              "        vertical-align: top;\n",
              "    }\n",
              "\n",
              "    .dataframe thead th {\n",
              "        text-align: right;\n",
              "    }\n",
              "</style>\n",
              "<table border=\"1\" class=\"dataframe\">\n",
              "  <thead>\n",
              "    <tr style=\"text-align: right;\">\n",
              "      <th></th>\n",
              "      <th>FB</th>\n",
              "      <th>AMZN</th>\n",
              "      <th>AAPL</th>\n",
              "      <th>NFLX</th>\n",
              "      <th>GOOG</th>\n",
              "    </tr>\n",
              "    <tr>\n",
              "      <th>Date</th>\n",
              "      <th></th>\n",
              "      <th></th>\n",
              "      <th></th>\n",
              "      <th></th>\n",
              "      <th></th>\n",
              "    </tr>\n",
              "  </thead>\n",
              "  <tbody>\n",
              "    <tr>\n",
              "      <th>2016-01-04</th>\n",
              "      <td>NaN</td>\n",
              "      <td>NaN</td>\n",
              "      <td>NaN</td>\n",
              "      <td>NaN</td>\n",
              "      <td>NaN</td>\n",
              "    </tr>\n",
              "    <tr>\n",
              "      <th>2016-01-05</th>\n",
              "      <td>0.004989</td>\n",
              "      <td>-0.005024</td>\n",
              "      <td>-0.025059</td>\n",
              "      <td>-0.020917</td>\n",
              "      <td>0.000998</td>\n",
              "    </tr>\n",
              "    <tr>\n",
              "      <th>2016-01-06</th>\n",
              "      <td>0.002336</td>\n",
              "      <td>-0.001799</td>\n",
              "      <td>-0.019570</td>\n",
              "      <td>0.093071</td>\n",
              "      <td>0.001400</td>\n",
              "    </tr>\n",
              "    <tr>\n",
              "      <th>2016-01-07</th>\n",
              "      <td>-0.049043</td>\n",
              "      <td>-0.039058</td>\n",
              "      <td>-0.042205</td>\n",
              "      <td>-0.026513</td>\n",
              "      <td>-0.023170</td>\n",
              "    </tr>\n",
              "    <tr>\n",
              "      <th>2016-01-08</th>\n",
              "      <td>-0.006025</td>\n",
              "      <td>-0.001464</td>\n",
              "      <td>0.005288</td>\n",
              "      <td>-0.027671</td>\n",
              "      <td>-0.016410</td>\n",
              "    </tr>\n",
              "    <tr>\n",
              "      <th>...</th>\n",
              "      <td>...</td>\n",
              "      <td>...</td>\n",
              "      <td>...</td>\n",
              "      <td>...</td>\n",
              "      <td>...</td>\n",
              "    </tr>\n",
              "    <tr>\n",
              "      <th>2021-01-04</th>\n",
              "      <td>-0.015449</td>\n",
              "      <td>-0.021585</td>\n",
              "      <td>-0.024719</td>\n",
              "      <td>-0.033048</td>\n",
              "      <td>-0.013494</td>\n",
              "    </tr>\n",
              "    <tr>\n",
              "      <th>2021-01-05</th>\n",
              "      <td>0.007548</td>\n",
              "      <td>0.010004</td>\n",
              "      <td>0.012364</td>\n",
              "      <td>-0.003940</td>\n",
              "      <td>0.007337</td>\n",
              "    </tr>\n",
              "    <tr>\n",
              "      <th>2021-01-06</th>\n",
              "      <td>-0.028269</td>\n",
              "      <td>-0.024897</td>\n",
              "      <td>-0.033662</td>\n",
              "      <td>-0.038998</td>\n",
              "      <td>-0.003234</td>\n",
              "    </tr>\n",
              "    <tr>\n",
              "      <th>2021-01-07</th>\n",
              "      <td>0.020622</td>\n",
              "      <td>0.007577</td>\n",
              "      <td>0.034123</td>\n",
              "      <td>0.016784</td>\n",
              "      <td>0.029943</td>\n",
              "    </tr>\n",
              "    <tr>\n",
              "      <th>2021-01-08</th>\n",
              "      <td>-0.004354</td>\n",
              "      <td>0.006496</td>\n",
              "      <td>0.008631</td>\n",
              "      <td>0.002967</td>\n",
              "      <td>0.011168</td>\n",
              "    </tr>\n",
              "  </tbody>\n",
              "</table>\n",
              "<p>1263 rows × 5 columns</p>\n",
              "</div>"
            ],
            "text/plain": [
              "                  FB      AMZN      AAPL      NFLX      GOOG\n",
              "Date                                                        \n",
              "2016-01-04       NaN       NaN       NaN       NaN       NaN\n",
              "2016-01-05  0.004989 -0.005024 -0.025059 -0.020917  0.000998\n",
              "2016-01-06  0.002336 -0.001799 -0.019570  0.093071  0.001400\n",
              "2016-01-07 -0.049043 -0.039058 -0.042205 -0.026513 -0.023170\n",
              "2016-01-08 -0.006025 -0.001464  0.005288 -0.027671 -0.016410\n",
              "...              ...       ...       ...       ...       ...\n",
              "2021-01-04 -0.015449 -0.021585 -0.024719 -0.033048 -0.013494\n",
              "2021-01-05  0.007548  0.010004  0.012364 -0.003940  0.007337\n",
              "2021-01-06 -0.028269 -0.024897 -0.033662 -0.038998 -0.003234\n",
              "2021-01-07  0.020622  0.007577  0.034123  0.016784  0.029943\n",
              "2021-01-08 -0.004354  0.006496  0.008631  0.002967  0.011168\n",
              "\n",
              "[1263 rows x 5 columns]"
            ]
          },
          "metadata": {
            "tags": []
          },
          "execution_count": 69
        }
      ]
    },
    {
      "cell_type": "code",
      "metadata": {
        "colab": {
          "base_uri": "https://localhost:8080/",
          "height": 201
        },
        "id": "9s9jriaKFeYQ",
        "outputId": "bb534dbd-7614-4d84-8389-561156f70cbf"
      },
      "source": [
        "cov_matrix_annual = returns.cov() * 252\r\n",
        "cov_matrix_annual"
      ],
      "execution_count": null,
      "outputs": [
        {
          "output_type": "execute_result",
          "data": {
            "text/html": [
              "<div>\n",
              "<style scoped>\n",
              "    .dataframe tbody tr th:only-of-type {\n",
              "        vertical-align: middle;\n",
              "    }\n",
              "\n",
              "    .dataframe tbody tr th {\n",
              "        vertical-align: top;\n",
              "    }\n",
              "\n",
              "    .dataframe thead th {\n",
              "        text-align: right;\n",
              "    }\n",
              "</style>\n",
              "<table border=\"1\" class=\"dataframe\">\n",
              "  <thead>\n",
              "    <tr style=\"text-align: right;\">\n",
              "      <th></th>\n",
              "      <th>FB</th>\n",
              "      <th>AMZN</th>\n",
              "      <th>AAPL</th>\n",
              "      <th>NFLX</th>\n",
              "      <th>GOOG</th>\n",
              "    </tr>\n",
              "  </thead>\n",
              "  <tbody>\n",
              "    <tr>\n",
              "      <th>FB</th>\n",
              "      <td>0.108246</td>\n",
              "      <td>0.062263</td>\n",
              "      <td>0.057992</td>\n",
              "      <td>0.062561</td>\n",
              "      <td>0.059932</td>\n",
              "    </tr>\n",
              "    <tr>\n",
              "      <th>AMZN</th>\n",
              "      <td>0.062263</td>\n",
              "      <td>0.091908</td>\n",
              "      <td>0.054747</td>\n",
              "      <td>0.071445</td>\n",
              "      <td>0.053170</td>\n",
              "    </tr>\n",
              "    <tr>\n",
              "      <th>AAPL</th>\n",
              "      <td>0.057992</td>\n",
              "      <td>0.054747</td>\n",
              "      <td>0.091404</td>\n",
              "      <td>0.055943</td>\n",
              "      <td>0.052320</td>\n",
              "    </tr>\n",
              "    <tr>\n",
              "      <th>NFLX</th>\n",
              "      <td>0.062561</td>\n",
              "      <td>0.071445</td>\n",
              "      <td>0.055943</td>\n",
              "      <td>0.164685</td>\n",
              "      <td>0.054625</td>\n",
              "    </tr>\n",
              "    <tr>\n",
              "      <th>GOOG</th>\n",
              "      <td>0.059932</td>\n",
              "      <td>0.053170</td>\n",
              "      <td>0.052320</td>\n",
              "      <td>0.054625</td>\n",
              "      <td>0.069342</td>\n",
              "    </tr>\n",
              "  </tbody>\n",
              "</table>\n",
              "</div>"
            ],
            "text/plain": [
              "            FB      AMZN      AAPL      NFLX      GOOG\n",
              "FB    0.108246  0.062263  0.057992  0.062561  0.059932\n",
              "AMZN  0.062263  0.091908  0.054747  0.071445  0.053170\n",
              "AAPL  0.057992  0.054747  0.091404  0.055943  0.052320\n",
              "NFLX  0.062561  0.071445  0.055943  0.164685  0.054625\n",
              "GOOG  0.059932  0.053170  0.052320  0.054625  0.069342"
            ]
          },
          "metadata": {
            "tags": []
          },
          "execution_count": 70
        }
      ]
    },
    {
      "cell_type": "code",
      "metadata": {
        "colab": {
          "base_uri": "https://localhost:8080/"
        },
        "id": "fESLgce4Ge9X",
        "outputId": "5fc7868d-11e3-4c6d-9ae6-80e8e62f53c8"
      },
      "source": [
        "port_variance = np.dot( weights.T, np.dot(cov_matrix_annual, weights))\r\n",
        "port_variance"
      ],
      "execution_count": null,
      "outputs": [
        {
          "output_type": "execute_result",
          "data": {
            "text/plain": [
              "0.06782316761615181"
            ]
          },
          "metadata": {
            "tags": []
          },
          "execution_count": 71
        }
      ]
    },
    {
      "cell_type": "code",
      "metadata": {
        "colab": {
          "base_uri": "https://localhost:8080/"
        },
        "id": "gu16NtKGH5uf",
        "outputId": "fcb875b8-c238-4f36-fb24-59e7caa76d29"
      },
      "source": [
        "port_volatality = np.sqrt(port_variance)\r\n",
        "port_volatality"
      ],
      "execution_count": null,
      "outputs": [
        {
          "output_type": "execute_result",
          "data": {
            "text/plain": [
              "0.2604288148729933"
            ]
          },
          "metadata": {
            "tags": []
          },
          "execution_count": 72
        }
      ]
    },
    {
      "cell_type": "code",
      "metadata": {
        "colab": {
          "base_uri": "https://localhost:8080/"
        },
        "id": "NPwtM6EJIi4e",
        "outputId": "baf9f45d-700b-4fec-81a0-4ae382cdca9d"
      },
      "source": [
        "portfolioSimpleAnnualReturn = np.sum(returns.mean() * weights) * 252\r\n",
        "portfolioSimpleAnnualReturn"
      ],
      "execution_count": null,
      "outputs": [
        {
          "output_type": "execute_result",
          "data": {
            "text/plain": [
              "0.3196786305571258"
            ]
          },
          "metadata": {
            "tags": []
          },
          "execution_count": 73
        }
      ]
    },
    {
      "cell_type": "code",
      "metadata": {
        "colab": {
          "base_uri": "https://localhost:8080/"
        },
        "id": "lwFaWIMuJP3I",
        "outputId": "eaecb49e-4782-4128-e01c-1328067c6f23"
      },
      "source": [
        "percent_var = str( round(port_variance, 2) *100) + '%'\r\n",
        "percent_vols = str( round(port_volatality , 2) *100) + '%'\r\n",
        "percent_ret = str( round(portfolioSimpleAnnualReturn, 2) *100) + '%'\r\n",
        "\r\n",
        "print('Expected annual return: '+ percent_ret)\r\n",
        "print('Annual volatality / risk: '+ percent_vols)\r\n",
        "print('Annual variance: '+ percent_var)"
      ],
      "execution_count": null,
      "outputs": [
        {
          "output_type": "stream",
          "text": [
            "Expected annual return: 32.0%\n",
            "Annual volatality / risk: 26.0%\n",
            "Annual variance: 7.000000000000001%\n"
          ],
          "name": "stdout"
        }
      ]
    },
    {
      "cell_type": "code",
      "metadata": {
        "colab": {
          "base_uri": "https://localhost:8080/"
        },
        "id": "3vwB7mJcNZIK",
        "outputId": "9677a21e-9dd8-4b71-80e0-b45bd181ce04"
      },
      "source": [
        "pip install PyPortfolioOpt"
      ],
      "execution_count": null,
      "outputs": [
        {
          "output_type": "stream",
          "text": [
            "Requirement already satisfied: PyPortfolioOpt in /usr/local/lib/python3.6/dist-packages (1.2.7)\n",
            "Requirement already satisfied: cvxpy<2.0,>=1.0 in /usr/local/lib/python3.6/dist-packages (from PyPortfolioOpt) (1.0.31)\n",
            "Requirement already satisfied: cvxopt<2.0,>=1.2 in /usr/local/lib/python3.6/dist-packages (from PyPortfolioOpt) (1.2.5)\n",
            "Requirement already satisfied: scipy<2.0,>=1.3 in /usr/local/lib/python3.6/dist-packages (from PyPortfolioOpt) (1.4.1)\n",
            "Requirement already satisfied: numpy<2.0,>=1.12 in /usr/local/lib/python3.6/dist-packages (from PyPortfolioOpt) (1.19.4)\n",
            "Requirement already satisfied: pandas>=0.19 in /usr/local/lib/python3.6/dist-packages (from PyPortfolioOpt) (1.1.5)\n",
            "Requirement already satisfied: multiprocess in /usr/local/lib/python3.6/dist-packages (from cvxpy<2.0,>=1.0->PyPortfolioOpt) (0.70.11.1)\n",
            "Requirement already satisfied: osqp>=0.4.1 in /usr/local/lib/python3.6/dist-packages (from cvxpy<2.0,>=1.0->PyPortfolioOpt) (0.6.1)\n",
            "Requirement already satisfied: scs>=1.1.3 in /usr/local/lib/python3.6/dist-packages (from cvxpy<2.0,>=1.0->PyPortfolioOpt) (2.1.2)\n",
            "Requirement already satisfied: ecos>=2 in /usr/local/lib/python3.6/dist-packages (from cvxpy<2.0,>=1.0->PyPortfolioOpt) (2.0.7.post1)\n",
            "Requirement already satisfied: pytz>=2017.2 in /usr/local/lib/python3.6/dist-packages (from pandas>=0.19->PyPortfolioOpt) (2018.9)\n",
            "Requirement already satisfied: python-dateutil>=2.7.3 in /usr/local/lib/python3.6/dist-packages (from pandas>=0.19->PyPortfolioOpt) (2.8.1)\n",
            "Requirement already satisfied: dill>=0.3.3 in /usr/local/lib/python3.6/dist-packages (from multiprocess->cvxpy<2.0,>=1.0->PyPortfolioOpt) (0.3.3)\n",
            "Requirement already satisfied: future in /usr/local/lib/python3.6/dist-packages (from osqp>=0.4.1->cvxpy<2.0,>=1.0->PyPortfolioOpt) (0.16.0)\n",
            "Requirement already satisfied: six>=1.5 in /usr/local/lib/python3.6/dist-packages (from python-dateutil>=2.7.3->pandas>=0.19->PyPortfolioOpt) (1.15.0)\n"
          ],
          "name": "stdout"
        }
      ]
    },
    {
      "cell_type": "code",
      "metadata": {
        "id": "ha4ym-JIFhYp"
      },
      "source": [
        ""
      ],
      "execution_count": null,
      "outputs": []
    },
    {
      "cell_type": "code",
      "metadata": {
        "id": "Id3h01VKPZks"
      },
      "source": [
        "from pypfopt.efficient_frontier import EfficientFrontier\r\n",
        "from pypfopt import risk_models\r\n",
        "from pypfopt import expected_returns"
      ],
      "execution_count": null,
      "outputs": []
    },
    {
      "cell_type": "code",
      "metadata": {
        "colab": {
          "base_uri": "https://localhost:8080/"
        },
        "id": "P3TA5H8oQqvP",
        "outputId": "0965440c-b743-4259-e8dc-a4caf7f0ab0f"
      },
      "source": [
        "mu = expected_returns.mean_historical_return(df)\r\n",
        "S = risk_models.sample_cov(df)\r\n",
        "\r\n",
        "ef = EfficientFrontier(mu, S)\r\n",
        "weights = ef.max_sharpe()\r\n",
        "cleaned_weights = ef.clean_weights()\r\n",
        "print(cleaned_weights)\r\n",
        "ef.portfolio_performance(verbose = True)"
      ],
      "execution_count": null,
      "outputs": [
        {
          "output_type": "stream",
          "text": [
            "OrderedDict([('FB', 0.0), ('AMZN', 0.4091), ('AAPL', 0.55068), ('NFLX', 0.04022), ('GOOG', 0.0)])\n",
            "Expected annual return: 39.0%\n",
            "Annual volatility: 27.0%\n",
            "Sharpe Ratio: 1.37\n"
          ],
          "name": "stdout"
        },
        {
          "output_type": "execute_result",
          "data": {
            "text/plain": [
              "(0.39022196343829557, 0.26993064575017045, 1.3715447625793034)"
            ]
          },
          "metadata": {
            "tags": []
          },
          "execution_count": 77
        }
      ]
    },
    {
      "cell_type": "code",
      "metadata": {
        "colab": {
          "base_uri": "https://localhost:8080/"
        },
        "id": "MgWgERu-UWIs",
        "outputId": "2e253f6c-8614-47bc-88f1-1b06226770c4"
      },
      "source": [
        "0.0 + 0.4091 + 0.55068 + 0.04022 + 0.0"
      ],
      "execution_count": null,
      "outputs": [
        {
          "output_type": "execute_result",
          "data": {
            "text/plain": [
              "1.0"
            ]
          },
          "metadata": {
            "tags": []
          },
          "execution_count": 78
        }
      ]
    },
    {
      "cell_type": "code",
      "metadata": {
        "colab": {
          "base_uri": "https://localhost:8080/"
        },
        "id": "aRNUjfiOUuAv",
        "outputId": "3957622b-5c8e-4ff9-d7d6-05ac7a037e36"
      },
      "source": [
        "from pypfopt.discrete_allocation import DiscreteAllocation, get_latest_prices\r\n",
        "\r\n",
        "latest_prices = get_latest_prices(df)\r\n",
        "weights = cleaned_weights\r\n",
        "da = DiscreteAllocation(weights, latest_prices, total_portfolio_value = 15000)\r\n",
        "\r\n",
        "allocation , leftover = da.lp_portfolio()\r\n",
        "print('Discrete allocation:', allocation)\r\n",
        "print('Funds remaining: ${:.2f}'.format(leftover))"
      ],
      "execution_count": null,
      "outputs": [
        {
          "output_type": "stream",
          "text": [
            "Discrete allocation: {'AMZN': 2, 'AAPL': 61, 'NFLX': 1}\n",
            "Funds remaining: $69.15\n"
          ],
          "name": "stdout"
        }
      ]
    }
  ]
}